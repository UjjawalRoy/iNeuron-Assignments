{
 "cells": [
  {
   "cell_type": "code",
   "execution_count": null,
   "id": "5527c9ff",
   "metadata": {},
   "outputs": [],
   "source": [
    "1. Write a Python program to print \"Hello Python\"?"
   ]
  },
  {
   "cell_type": "code",
   "execution_count": 1,
   "id": "344fcc3b",
   "metadata": {},
   "outputs": [
    {
     "name": "stdout",
     "output_type": "stream",
     "text": [
      "Hello Python\n"
     ]
    }
   ],
   "source": [
    "a = \"Hello Python\"\n",
    "print(a)"
   ]
  },
  {
   "cell_type": "code",
   "execution_count": null,
   "id": "dcae8be3",
   "metadata": {},
   "outputs": [],
   "source": [
    "2. Write a Python program to do arithmetical operations addition and division?"
   ]
  },
  {
   "cell_type": "code",
   "execution_count": 6,
   "id": "18769c2c",
   "metadata": {},
   "outputs": [
    {
     "name": "stdout",
     "output_type": "stream",
     "text": [
      "45\n",
      "5\n",
      "Addition -  50 ,  Division -  9.0\n"
     ]
    }
   ],
   "source": [
    "a = int(input())\n",
    "b = int(input())\n",
    "print(\"Addition - \", a+b, \", \", \"Division - \", a/b)"
   ]
  },
  {
   "cell_type": "code",
   "execution_count": null,
   "id": "84dcd9f4",
   "metadata": {},
   "outputs": [],
   "source": [
    "3. Write a Python program to find the area of a triangle?"
   ]
  },
  {
   "cell_type": "code",
   "execution_count": 8,
   "id": "9068b8ed",
   "metadata": {},
   "outputs": [
    {
     "name": "stdout",
     "output_type": "stream",
     "text": [
      "Input height40\n",
      "Input base20\n",
      "Area of the triangle =  400.0  cm^2\n"
     ]
    }
   ],
   "source": [
    "h = int(input(\"Input height\"))\n",
    "b = int(input(\"Input base\"))\n",
    "print(\"Area of the triangle = \", (1/2)*b*h, \" cm^2\")"
   ]
  },
  {
   "cell_type": "code",
   "execution_count": null,
   "id": "2eed5faf",
   "metadata": {},
   "outputs": [],
   "source": [
    "4. Write a Python program to swap two variables?"
   ]
  },
  {
   "cell_type": "code",
   "execution_count": 10,
   "id": "f1dd61a9",
   "metadata": {},
   "outputs": [
    {
     "name": "stdout",
     "output_type": "stream",
     "text": [
      "Enter first var 5\n",
      "Enter second var 10\n",
      "first variable X =  10\n",
      "second variable y =  5\n"
     ]
    }
   ],
   "source": [
    "x = int(input(\"Enter first var \"))\n",
    "y = int(input(\"Enter second var \"))\n",
    "\n",
    "z = x\n",
    "x = y\n",
    "y = z\n",
    "print(\"first variable X = \", x)\n",
    "print(\"second variable y = \", y)"
   ]
  },
  {
   "cell_type": "code",
   "execution_count": null,
   "id": "767f327b",
   "metadata": {},
   "outputs": [],
   "source": [
    "5. Write a Python program to generate a random number?"
   ]
  },
  {
   "cell_type": "code",
   "execution_count": 11,
   "id": "f8fff472",
   "metadata": {},
   "outputs": [
    {
     "name": "stdout",
     "output_type": "stream",
     "text": [
      "Generated random number:  75\n"
     ]
    }
   ],
   "source": [
    "import random\n",
    "print(\"Generated random number: \", random.randint(0, 100))"
   ]
  }
 ],
 "metadata": {
  "kernelspec": {
   "display_name": "Python 3 (ipykernel)",
   "language": "python",
   "name": "python3"
  },
  "language_info": {
   "codemirror_mode": {
    "name": "ipython",
    "version": 3
   },
   "file_extension": ".py",
   "mimetype": "text/x-python",
   "name": "python",
   "nbconvert_exporter": "python",
   "pygments_lexer": "ipython3",
   "version": "3.10.1"
  }
 },
 "nbformat": 4,
 "nbformat_minor": 5
}
