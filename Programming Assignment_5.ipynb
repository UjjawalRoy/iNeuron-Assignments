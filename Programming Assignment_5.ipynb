{
 "cells": [
  {
   "cell_type": "code",
   "execution_count": null,
   "id": "4f97a859",
   "metadata": {},
   "outputs": [],
   "source": [
    "1. Write a Python Program to Find LCM?"
   ]
  },
  {
   "cell_type": "code",
   "execution_count": 88,
   "id": "0fa0379b",
   "metadata": {},
   "outputs": [],
   "source": [
    "def lcm(a,b):\n",
    "    \"\"\"This functions gives the LCM of two entered numbers\"\"\"\n",
    "    try:\n",
    "        l = []\n",
    "        for i in range(1, a*b):\n",
    "            while i%a == 0 and i%b == 0:\n",
    "                l.append(i)\n",
    "                break\n",
    "        return min(l)\n",
    "    except Exception as e:\n",
    "        print(\"Error: \", e)\n",
    "            "
   ]
  },
  {
   "cell_type": "code",
   "execution_count": 89,
   "id": "52012064",
   "metadata": {},
   "outputs": [
    {
     "data": {
      "text/plain": [
       "60"
      ]
     },
     "execution_count": 89,
     "metadata": {},
     "output_type": "execute_result"
    }
   ],
   "source": [
    "lcm(20, 30) "
   ]
  },
  {
   "cell_type": "code",
   "execution_count": null,
   "id": "7a354340",
   "metadata": {},
   "outputs": [],
   "source": [
    "2. Write a Python Program to Find HCF?"
   ]
  },
  {
   "cell_type": "code",
   "execution_count": 94,
   "id": "4fdcd414",
   "metadata": {},
   "outputs": [],
   "source": [
    "def hcf(a, b):\n",
    "    \"\"\"This functions gives the HCF of two entered numbers\"\"\"\n",
    "    try:\n",
    "        y = (a*b)/(lcm(a,b))\n",
    "        return y\n",
    "    except Exception as e:\n",
    "        print(\"Error: \", e)  "
   ]
  },
  {
   "cell_type": "code",
   "execution_count": 95,
   "id": "8ad3f41c",
   "metadata": {},
   "outputs": [
    {
     "data": {
      "text/plain": [
       "5.0"
      ]
     },
     "execution_count": 95,
     "metadata": {},
     "output_type": "execute_result"
    }
   ],
   "source": [
    "hcf(15, 25)"
   ]
  },
  {
   "cell_type": "code",
   "execution_count": null,
   "id": "b34e4f1e",
   "metadata": {},
   "outputs": [],
   "source": [
    "3. Write a Python Program to Convert Decimal to Binary, Octal and Hexadecimal?"
   ]
  },
  {
   "cell_type": "code",
   "execution_count": 96,
   "id": "1e0497b5",
   "metadata": {},
   "outputs": [
    {
     "name": "stdout",
     "output_type": "stream",
     "text": [
      "Enter a number323\n",
      "323  will be equal to:\n",
      "0b101000011 in binary system\n",
      "0o503 in octal system\n",
      "0x143 in hexadecimal system\n"
     ]
    }
   ],
   "source": [
    "dec = int(input(\"Enter a number\"))\n",
    "\n",
    "print(dec, \" will be equal to:\")\n",
    "print(bin(dec), \"in binary system\")\n",
    "print(oct(dec), \"in octal system\")\n",
    "print(hex(dec), \"in hexadecimal system\")"
   ]
  },
  {
   "cell_type": "code",
   "execution_count": null,
   "id": "efcdc0bb",
   "metadata": {},
   "outputs": [],
   "source": [
    "4. Write a Python Program To Find ASCII value of a character?"
   ]
  },
  {
   "cell_type": "code",
   "execution_count": 101,
   "id": "0da97a67",
   "metadata": {},
   "outputs": [
    {
     "name": "stdout",
     "output_type": "stream",
     "text": [
      "Enter a letter: s\n",
      "115\n"
     ]
    }
   ],
   "source": [
    "a = input(\"Enter a letter: \")\n",
    "\n",
    "print(ord(a))"
   ]
  },
  {
   "cell_type": "code",
   "execution_count": null,
   "id": "17393233",
   "metadata": {},
   "outputs": [],
   "source": [
    "5. Write a Python Program to Make a Simple Calculator with 4 basic mathematical operations?"
   ]
  },
  {
   "cell_type": "code",
   "execution_count": 103,
   "id": "3498cc30",
   "metadata": {},
   "outputs": [],
   "source": [
    "def calc(x, y):\n",
    "    \"\"\"Calculates the addition, subtraction, multiplication and division values for the entered numbers\"\"\"\n",
    "    try:\n",
    "        a = x+y\n",
    "        b = x-y\n",
    "        c = x*y\n",
    "        d = x/y\n",
    "        return a,b,c,d\n",
    "    except Exception as e:\n",
    "        print(\"Error: \", e)"
   ]
  },
  {
   "cell_type": "code",
   "execution_count": 104,
   "id": "fb47080f",
   "metadata": {},
   "outputs": [
    {
     "data": {
      "text/plain": [
       "(7, -1, 12, 0.75)"
      ]
     },
     "execution_count": 104,
     "metadata": {},
     "output_type": "execute_result"
    }
   ],
   "source": [
    "calc(3, 4)"
   ]
  }
 ],
 "metadata": {
  "kernelspec": {
   "display_name": "Python 3 (ipykernel)",
   "language": "python",
   "name": "python3"
  },
  "language_info": {
   "codemirror_mode": {
    "name": "ipython",
    "version": 3
   },
   "file_extension": ".py",
   "mimetype": "text/x-python",
   "name": "python",
   "nbconvert_exporter": "python",
   "pygments_lexer": "ipython3",
   "version": "3.10.1"
  }
 },
 "nbformat": 4,
 "nbformat_minor": 5
}
