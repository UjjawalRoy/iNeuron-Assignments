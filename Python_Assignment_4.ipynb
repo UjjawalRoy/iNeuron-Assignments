{
 "cells": [
  {
   "cell_type": "code",
   "execution_count": null,
   "id": "0c8124c8",
   "metadata": {},
   "outputs": [],
   "source": [
    "1. What exactly is []?\n",
    "Ans. [] refers to an empty list as '' refers to ann empty string.\n",
    "2. In a list of values stored in a variable called spam, how would you assign the value &#39;hello&#39; as the\n",
    "third value? (Assume [2, 4, 6, 8, 10] are in spam.)\n",
    "Ans. spam = [2, 4, 6, 8, 10]\n",
    "    spam[2] = \"hello\"\n",
    "3. What is the value of spam[int(int('3'* 2) / 11)]?\n",
    "Ans. 'd', 3 as '3'*2 = 33 which is converted to an innt then divided by 11.\n",
    "4. What is the value of spam[-1]?\n",
    "Ans. 'd'.\n",
    "5. What is the value of spam[:2]?\n",
    "Ans. ['a', 'b'].\n",
    "6. What is the value of bacon.index('cat')?\n",
    "Ans. 1\n",
    "7. How does bacon.append(99) change the look of the list value in bacon?\n",
    "Ans. [3.14, 'cat', 11, 'cat', True, 99]\n",
    "8. How does bacon.remove('cat') change the look of the list in bacon?\n",
    "Ans. [3.14, 11, 'cat', True]\n",
    "9. What are the list concatenation and list replication operators?\n",
    "Ans. The operator for list concatenation is +, while the operator for replication is *.\n",
    "10. What is difference between the list methods append() and insert()?\n",
    "Ans. append() appends a value at the end of the list, whereas, insert() helps insert\n",
    "    a value at any desired postion.\n",
    "11. What are the two methods for removing items from a list?\n",
    "Ans. list.remove(), and del statement.\n",
    "12. Describe how list values and string values are identical.\n",
    "Ans. Both lists and strings can be passed to len(), have indexes and slices, be used in for loops,\n",
    "    be concatenated or replicated, and be used with the in and not in operators.\n",
    "13. What is the difference between tuples and lists?  \n",
    "Ans. tuples are like lists but are immutable objects. Lists are mutable. tuples are written\n",
    "    using () and lists are written using [].\n",
    "14. How do you type a tuple value that only contains the integer 42?\n",
    "Ans. tuple = (42,)\n",
    "15. How do you get a list value's tuple form? How do you get a tuple value's list form?\n",
    "Ans. The tuple() and list() functions, respectively.\n",
    "16. Variables that \"contain\" list values are not necessarily lists themselves. Instead, what do they\n",
    "contain?\n",
    "Ans. They contain references to the list values.\n",
    "17. How do you distinguish between copy.copy() and copy.deepcopy()?\n",
    "Ans. The copy.copy() function will do a shallow copy of a list, while the copy.deepcopy() function will \n",
    "    do a deep copy of a list. That is, only copy.deepcopy() will duplicate any lists inside the list. \n"
   ]
  }
 ],
 "metadata": {
  "kernelspec": {
   "display_name": "Python 3 (ipykernel)",
   "language": "python",
   "name": "python3"
  },
  "language_info": {
   "codemirror_mode": {
    "name": "ipython",
    "version": 3
   },
   "file_extension": ".py",
   "mimetype": "text/x-python",
   "name": "python",
   "nbconvert_exporter": "python",
   "pygments_lexer": "ipython3",
   "version": "3.10.1"
  }
 },
 "nbformat": 4,
 "nbformat_minor": 5
}
