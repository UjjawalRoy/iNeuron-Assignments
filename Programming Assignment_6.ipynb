{
 "cells": [
  {
   "cell_type": "code",
   "execution_count": null,
   "id": "3ac0697b",
   "metadata": {},
   "outputs": [],
   "source": [
    "1. Write a Python Program to Display Fibonacci Sequence Using Recursion?"
   ]
  },
  {
   "cell_type": "code",
   "execution_count": 14,
   "id": "43c03d81",
   "metadata": {},
   "outputs": [],
   "source": [
    "\n",
    "def recur_fibo(n):\n",
    "    \"\"\"Returns Fibonacci series using recursion.\"\"\"\n",
    "    try:\n",
    "        if n <= 1:\n",
    "            return n\n",
    "        else:\n",
    "            return(recur_fibo(n-1) + recur_fibo(n-2))\n",
    "    except Exception as e:\n",
    "        print(\"Error:\", e)\n",
    "def fibo(x):\n",
    "    \"\"\"Returns Fibonacci series.\"\"\"\n",
    "    try:\n",
    "        if x <= 0:\n",
    "            print(\"Enter a positive integer\")\n",
    "        else:\n",
    "            print(\"Fibonacci sequence:\")\n",
    "            for i in range(x):\n",
    "                print(recur_fibo(i))\n",
    "    except Exception as p:\n",
    "        print(\"Error:\", p)"
   ]
  },
  {
   "cell_type": "code",
   "execution_count": 15,
   "id": "38ac7263",
   "metadata": {},
   "outputs": [
    {
     "name": "stdout",
     "output_type": "stream",
     "text": [
      "Fibonacci sequence:\n",
      "0\n",
      "1\n",
      "1\n",
      "2\n",
      "3\n",
      "5\n",
      "8\n",
      "13\n"
     ]
    }
   ],
   "source": [
    "fibo(8)"
   ]
  },
  {
   "cell_type": "code",
   "execution_count": null,
   "id": "f5e0381a",
   "metadata": {},
   "outputs": [],
   "source": [
    "2. Write a Python Program to Find Factorial of Number Using Recursion?"
   ]
  },
  {
   "cell_type": "code",
   "execution_count": 25,
   "id": "0f22de32",
   "metadata": {},
   "outputs": [],
   "source": [
    "def fac_recur(n):\n",
    "    \"\"\"Returns the factorial value of the entered number.\"\"\"\n",
    "    try:\n",
    "        if n <= 1:\n",
    "            return n\n",
    "        else:\n",
    "            return(n*fac_recur(n-1))\n",
    "    except Exception as e:\n",
    "        print(\"Error:\", e)\n",
    "def facto(x):\n",
    "    \"\"\"Returns factorial of entered number.\"\"\"\n",
    "    try:\n",
    "        if x < 0:\n",
    "            print(\"Enter a positive integer\")\n",
    "        elif x == 0:\n",
    "            print(\"Factorial of %s is 1\")\n",
    "        else:\n",
    "            print(\"Factorial:\", fac_recur(x))\n",
    "    except Exception as p:\n",
    "        print(\"Error:\", p) "
   ]
  },
  {
   "cell_type": "code",
   "execution_count": 26,
   "id": "116263de",
   "metadata": {},
   "outputs": [
    {
     "name": "stdout",
     "output_type": "stream",
     "text": [
      "Factorial: 120\n"
     ]
    }
   ],
   "source": [
    "facto(5)"
   ]
  },
  {
   "cell_type": "code",
   "execution_count": null,
   "id": "a334e337",
   "metadata": {},
   "outputs": [],
   "source": [
    "3. Write a Python Program to calculate your Body Mass Index?"
   ]
  },
  {
   "cell_type": "code",
   "execution_count": 38,
   "id": "efa1053a",
   "metadata": {},
   "outputs": [],
   "source": [
    "def bmi(w, h):\n",
    "    \"\"\"This functions helps to calculate your BMI.\n",
    "        - Weight in Kgs\n",
    "        - Height in mts\"\"\"\n",
    "    try:\n",
    "        if h == 0:\n",
    "            print(\"Enter a positive value for height\")\n",
    "        elif w == 0:\n",
    "            print(\"Enter a positive value for weight\")\n",
    "        else:\n",
    "            print(\"Your BMI =\")\n",
    "            return(w/(h**2))\n",
    "    except Exception as e:\n",
    "        print(\"Error:\", e)"
   ]
  },
  {
   "cell_type": "code",
   "execution_count": 41,
   "id": "e647da0c",
   "metadata": {},
   "outputs": [
    {
     "name": "stdout",
     "output_type": "stream",
     "text": [
      "Your BMI =\n"
     ]
    },
    {
     "data": {
      "text/plain": [
       "19.713321527615356"
      ]
     },
     "execution_count": 41,
     "metadata": {},
     "output_type": "execute_result"
    }
   ],
   "source": [
    "bmi(59, 1.73)"
   ]
  },
  {
   "cell_type": "code",
   "execution_count": null,
   "id": "b8f9bc6f",
   "metadata": {},
   "outputs": [],
   "source": [
    "4. Write a Python Program to calculate the natural logarithm of any number?"
   ]
  },
  {
   "cell_type": "code",
   "execution_count": 44,
   "id": "76190bc7",
   "metadata": {},
   "outputs": [],
   "source": [
    "import numpy as np\n",
    "def nat_log(x):\n",
    "    \"\"\"Helps calculate the natural log value of the given number.\"\"\"\n",
    "    try:\n",
    "        nlog = np.log(x)\n",
    "        return(nlog)\n",
    "    except Exception as e:\n",
    "        print(\"Error:\", e)"
   ]
  },
  {
   "cell_type": "code",
   "execution_count": 45,
   "id": "b8fb3c0e",
   "metadata": {},
   "outputs": [
    {
     "data": {
      "text/plain": [
       "2.302585092994046"
      ]
     },
     "execution_count": 45,
     "metadata": {},
     "output_type": "execute_result"
    }
   ],
   "source": [
    "nat_log(10)"
   ]
  },
  {
   "cell_type": "code",
   "execution_count": null,
   "id": "63dbaf35",
   "metadata": {},
   "outputs": [],
   "source": [
    "5. Write a Python Program for cube sum of first n natural numbers?"
   ]
  },
  {
   "cell_type": "code",
   "execution_count": 49,
   "id": "d746d97a",
   "metadata": {},
   "outputs": [],
   "source": [
    "def cubsum(n):\n",
    "    \"\"\"This function returns the sum of cubes of the first n natural numbers.\"\"\"\n",
    "    try:\n",
    "        x = (n**2*(n+1)**2)/4\n",
    "        return x\n",
    "    except Exception as e:\n",
    "        print(\"Error:\", e)"
   ]
  },
  {
   "cell_type": "code",
   "execution_count": 50,
   "id": "cdbca0c0",
   "metadata": {},
   "outputs": [
    {
     "data": {
      "text/plain": [
       "4356.0"
      ]
     },
     "execution_count": 50,
     "metadata": {},
     "output_type": "execute_result"
    }
   ],
   "source": [
    "cubsum(11)"
   ]
  }
 ],
 "metadata": {
  "kernelspec": {
   "display_name": "Python 3 (ipykernel)",
   "language": "python",
   "name": "python3"
  },
  "language_info": {
   "codemirror_mode": {
    "name": "ipython",
    "version": 3
   },
   "file_extension": ".py",
   "mimetype": "text/x-python",
   "name": "python",
   "nbconvert_exporter": "python",
   "pygments_lexer": "ipython3",
   "version": "3.10.1"
  }
 },
 "nbformat": 4,
 "nbformat_minor": 5
}
