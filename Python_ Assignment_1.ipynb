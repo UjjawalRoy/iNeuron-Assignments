{
 "cells": [
  {
   "cell_type": "code",
   "execution_count": null,
   "id": "e40905e2",
   "metadata": {},
   "outputs": [],
   "source": [
    "1. In the below elements which of them are values or an expression? eg:- values can be\n",
    "integer or string and expressions will be mathematical operators.\n",
    "* - Expression\n",
    "'hello' - String - Value\n",
    "-87.8 - Integer - Value\n",
    "- - Expression\n",
    "/ - Expression\n",
    "+ - Expression\n",
    "6 - Integer - Value"
   ]
  },
  {
   "cell_type": "code",
   "execution_count": null,
   "id": "f0d3f548",
   "metadata": {},
   "outputs": [],
   "source": [
    "2. What is the difference between string and variable?\n",
    "Ans. String - a sequence of unicode characters.\n",
    "     Variable - reserved memory location defined to store various values.\n",
    "     A vriable can store a string or int or a function and many more values in itself."
   ]
  },
  {
   "cell_type": "code",
   "execution_count": null,
   "id": "5cfffb3c",
   "metadata": {},
   "outputs": [],
   "source": [
    "3. Describe three different data types.\n",
    "Ans. List - A list in Python is used to store the sequence of various types of data. \n",
    "     Python lists are mutable type it means we can modify its element after it is created.\n",
    "     A list can be defined as a collection of values or items of different types. \n",
    "     The items in the list are separated with the comma (,) and enclosed with the square brackets [].\n",
    "    \n",
    "    Tuple - Python Tuple is used to store the sequence of immutable Python objects. \n",
    "    The tuple is similar to lists since the value of the items stored in the list can be changed, \n",
    "    whereas the tuple is immutable, and the value of the items stored in the tuple cannot be changed.\n",
    "    A tuple can be written as the collection of comma-separated (,) values enclosed with the small () brackets.\n",
    "    \n",
    "    Set - A Python set is the collection of the unordered items. \n",
    "    Each element in the set must be unique, immutable, and the sets remove the duplicate elements. \n",
    "    Sets are mutable which means we can modify it after its creation. Items stored in a set do not have any index associated \n",
    "    with them."
   ]
  },
  {
   "cell_type": "code",
   "execution_count": null,
   "id": "8f9a509c",
   "metadata": {},
   "outputs": [],
   "source": [
    "4. What is an expression made up of? What do all expressions do?\n",
    "Ans. An expression is made up of combinations of operands and operators which help produce some other values."
   ]
  },
  {
   "cell_type": "code",
   "execution_count": null,
   "id": "0d0148c0",
   "metadata": {},
   "outputs": [],
   "source": [
    "5. This assignment statements, like spam = 10. What is the difference between an\n",
    "expression and a statement?\n",
    "Ans. Expression uses mathematical operations to give out some other value, where as inn the following case, \n",
    "statement is where we are defining the value of the variable 'spam' as 10."
   ]
  },
  {
   "cell_type": "code",
   "execution_count": 1,
   "id": "7eb616fa",
   "metadata": {},
   "outputs": [
    {
     "data": {
      "text/plain": [
       "23"
      ]
     },
     "execution_count": 1,
     "metadata": {},
     "output_type": "execute_result"
    }
   ],
   "source": [
    "# 6. After running the following code, what does the variable bacon contain?\n",
    "bacon = 22\n",
    "bacon + 1\n",
    "\n",
    "# Ans. bacon contains the integer value 22, hence bacon+1 = 23"
   ]
  },
  {
   "cell_type": "code",
   "execution_count": 2,
   "id": "b206f829",
   "metadata": {},
   "outputs": [
    {
     "data": {
      "text/plain": [
       "'spamspamspam'"
      ]
     },
     "execution_count": 2,
     "metadata": {},
     "output_type": "execute_result"
    }
   ],
   "source": [
    "# 7. What should the values of the following two terms be?\n",
    "\n",
    "'spam'+'spamspam'\n",
    "# 'spamspamspam'"
   ]
  },
  {
   "cell_type": "code",
   "execution_count": 3,
   "id": "cf1df7a3",
   "metadata": {},
   "outputs": [
    {
     "data": {
      "text/plain": [
       "'SpamSpamSpam'"
      ]
     },
     "execution_count": 3,
     "metadata": {},
     "output_type": "execute_result"
    }
   ],
   "source": [
    "'Spam'*3\n",
    "# 'SpamSpamSpam'"
   ]
  },
  {
   "cell_type": "code",
   "execution_count": null,
   "id": "ba079e99",
   "metadata": {},
   "outputs": [],
   "source": [
    "8. Why is eggs a valid variable name while 100 is invalid?\n",
    "Ans. Because variable names cannot begin with an int or float value."
   ]
  },
  {
   "cell_type": "code",
   "execution_count": null,
   "id": "1e64d230",
   "metadata": {},
   "outputs": [],
   "source": [
    "9. What three functions can be used to get the integer, floating-point number, or string\n",
    "version of a value?\n",
    "Ans. str(), int(), float()."
   ]
  },
  {
   "cell_type": "code",
   "execution_count": null,
   "id": "b88ee217",
   "metadata": {},
   "outputs": [],
   "source": [
    "10. Why does this expression cause an error? How can you fix it?\n",
    "'I have eaten ' + 99 + ' burritos.'\n",
    "Ans. The following expressoin causes an error because 99 is in int form and an int cannot be concatenated with\n",
    "     a string value. To fix the error we just need to enclose the 99 in inverted commas ('')."
   ]
  }
 ],
 "metadata": {
  "kernelspec": {
   "display_name": "Python 3 (ipykernel)",
   "language": "python",
   "name": "python3"
  },
  "language_info": {
   "codemirror_mode": {
    "name": "ipython",
    "version": 3
   },
   "file_extension": ".py",
   "mimetype": "text/x-python",
   "name": "python",
   "nbconvert_exporter": "python",
   "pygments_lexer": "ipython3",
   "version": "3.10.1"
  }
 },
 "nbformat": 4,
 "nbformat_minor": 5
}
