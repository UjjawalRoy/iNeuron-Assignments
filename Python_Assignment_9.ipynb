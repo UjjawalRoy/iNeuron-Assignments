{
 "cells": [
  {
   "cell_type": "code",
   "execution_count": null,
   "id": "20f85071",
   "metadata": {},
   "outputs": [],
   "source": [
    "1. To what does a relative path refer?\n",
    "Ans. Relative paths are relative to the current directory.\n",
    "2. What does an absolute path start with your operating system?\n",
    "Ans. Absolute paths start with the root folder, such as / or C:\\.\n",
    "3. What do the functions os.getcwd() and os.chdir() do?\n",
    "Ans. The os.getcwd() function returns the current working directory. The\n",
    "os.chdir() function changes the current working directory.\n",
    "4. What are the . and .. folders?\n",
    "Ans. . is the current folder whereas .. is the parent folder.\n",
    "5. In C:\\bacon\\eggs\\spam.txt, which part is the dir name, and which part is the base name?\n",
    "Ans. C:\\bacon\\eggs is the dir name, while spam.txt is the base name.\n",
    "6. What are the three “mode” arguments that can be passed to the open() function?\n",
    "Ans. The string 'r' for read mode, 'w' for write mode, and 'a' for\n",
    "    append mode.\n",
    "7. What happens if an existing file is opened in write mode?\n",
    "Ans. An existing file opened in write mode is erased and completely\n",
    "    overwritten.\n",
    "8. How do you tell the difference between read() and readlines()?\n",
    "Ans. The read() method returns the file’s entire contents as a single string\n",
    "    value. The readlines() method returns a list of strings, where each\n",
    "    string is a line from the file’s contents.\n",
    "9. What data structure does a shelf value resemble?\n",
    "Ans. A shelf value resembles a dictionary value; it has keys and values, along\n",
    "    with keys() and values() methods that work similarly to the dictionary\n",
    "    methods of the same names."
   ]
  }
 ],
 "metadata": {
  "kernelspec": {
   "display_name": "Python 3 (ipykernel)",
   "language": "python",
   "name": "python3"
  },
  "language_info": {
   "codemirror_mode": {
    "name": "ipython",
    "version": 3
   },
   "file_extension": ".py",
   "mimetype": "text/x-python",
   "name": "python",
   "nbconvert_exporter": "python",
   "pygments_lexer": "ipython3",
   "version": "3.10.1"
  }
 },
 "nbformat": 4,
 "nbformat_minor": 5
}
