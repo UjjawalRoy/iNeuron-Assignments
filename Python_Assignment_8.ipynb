{
 "cells": [
  {
   "cell_type": "code",
   "execution_count": null,
   "id": "fe5f24d7",
   "metadata": {},
   "outputs": [],
   "source": [
    "1. Is the Python Standard Library included with PyInputPlus?\n",
    "Ans. PyInputPlus is not a part of the Python Standard Library, so you must install it separately using Pip.\n",
    "2. Why is PyInputPlus commonly imported with import pyinputplus as pypi?\n",
    "Ans. The as pyip code in the import statement saves us from typing pyinputplus each time we want to call a PyInputPlus function. \n",
    "    Instead we can use the shorter pyip name.\n",
    "3. How do you distinguish between inputInt() and inputFloat()?\n",
    "Ans. inputInt() accepts integer values whereas inputFloat() accepts decimal point values.\n",
    "4. Using PyInputPlus, how do you ensure that the user enters a whole number between 0 and 99?\n",
    "Ans. By using the inputInt() function.\n",
    "5. What is transferred to the keyword arguments allowRegexes and blockRegexes?\n",
    "Ans. The allowRegexes and blockRegexes keyword arguments take a list of regular expression strings to determine what the\n",
    "    PyInputPlus function will accept or reject as valid input.\n",
    "6. If a blank input is entered three times, what does inputStr(limit=3) do?\n",
    "Ans. The function will raise RetryLimitException.\n",
    "7. If blank input is entered three times, what does inputStr(limit=3, default='hello') do?\n",
    "Ans. The function returns the value 'hello'."
   ]
  }
 ],
 "metadata": {
  "kernelspec": {
   "display_name": "Python 3 (ipykernel)",
   "language": "python",
   "name": "python3"
  },
  "language_info": {
   "codemirror_mode": {
    "name": "ipython",
    "version": 3
   },
   "file_extension": ".py",
   "mimetype": "text/x-python",
   "name": "python",
   "nbconvert_exporter": "python",
   "pygments_lexer": "ipython3",
   "version": "3.10.1"
  }
 },
 "nbformat": 4,
 "nbformat_minor": 5
}
