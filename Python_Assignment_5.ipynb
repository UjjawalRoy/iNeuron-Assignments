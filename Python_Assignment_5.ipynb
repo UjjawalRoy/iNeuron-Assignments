{
 "cells": [
  {
   "cell_type": "code",
   "execution_count": null,
   "id": "6eca3edf",
   "metadata": {},
   "outputs": [],
   "source": [
    "1. What does an empty dictionary's code look like?\n",
    "Ans. {}\n",
    "2. What is the value of a dictionary value with the key 'foo' and the value 42?\n",
    "Ans. dict = {\"foo\":42}\n",
    "3. What is the most significant distinction between a dictionary and a list?\n",
    "Ans. A dictionary comes in a key value pair whereas a list holds only individual values.\n",
    "4. What happens if you try to access spam['foo'] if spam is {'bar': 100}?\n",
    "Ans. You will get a KeyError.\n",
    "5. If a dictionary is stored in spam, what is the difference between the expressions 'cat' in spam and\n",
    "    'cat' in spam.keys()?\n",
    "Ans. 'cat' in spam will give the corresponding value from the dictionary. 'cat' in \n",
    "    spam.keys() will fetch the value 'cat'.\n",
    "6. If a dictionary is stored in spam, what is the difference between the expressions 'cat' in spam and\n",
    "    'cat' in spam.values()?\n",
    "Ans. 'cat' in spam checks whether there is a 'cat' key in the dictionary, while 'cat' in spam.values() \n",
    "    checks whether there is a value 'cat' for one of the keys in spam.\n",
    "7. What is a shortcut for the following code?\n",
    "Ans. spam.setdefault('color', 'black').\n",
    "8. How do you 'pretty print' dictionary values using which module and function?\n",
    "Ans. pprint.pprint()"
   ]
  }
 ],
 "metadata": {
  "kernelspec": {
   "display_name": "Python 3 (ipykernel)",
   "language": "python",
   "name": "python3"
  },
  "language_info": {
   "codemirror_mode": {
    "name": "ipython",
    "version": 3
   },
   "file_extension": ".py",
   "mimetype": "text/x-python",
   "name": "python",
   "nbconvert_exporter": "python",
   "pygments_lexer": "ipython3",
   "version": "3.10.1"
  }
 },
 "nbformat": 4,
 "nbformat_minor": 5
}
