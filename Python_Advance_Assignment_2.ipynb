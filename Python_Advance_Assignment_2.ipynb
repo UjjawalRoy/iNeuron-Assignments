{
 "cells": [
  {
   "cell_type": "code",
   "execution_count": null,
   "id": "18a5101c",
   "metadata": {},
   "outputs": [],
   "source": [
    "Q1. What is the relationship between classes and modules?\n",
    "Ans. Modules consist of multiple classes."
   ]
  },
  {
   "cell_type": "code",
   "execution_count": null,
   "id": "a730bf9f",
   "metadata": {},
   "outputs": [],
   "source": [
    "Q2. How do you make instances and classes?\n",
    "Ans. The class statement creates a new class definition. \n",
    "     To create instances of a class, you call the class using \n",
    "    class name and pass in whatever arguments its __init__ method accepts."
   ]
  },
  {
   "cell_type": "code",
   "execution_count": null,
   "id": "b33e0f7f",
   "metadata": {},
   "outputs": [],
   "source": [
    "Q3. Where and how should be class attributes created?"
   ]
  },
  {
   "cell_type": "code",
   "execution_count": null,
   "id": "559ee3df",
   "metadata": {},
   "outputs": [],
   "source": [
    "Ans. Class attributes are created inside __init__ function, to create those attributes\n",
    "    simply pass the attribute names while defining the __init__."
   ]
  },
  {
   "cell_type": "code",
   "execution_count": null,
   "id": "ea6c4c2c",
   "metadata": {},
   "outputs": [],
   "source": [
    "Q4. Where and how are instance attributes created?\n",
    "Ans. Instance attributes are defined in the constructor. Defined directly inside a class. \n",
    "    Defined inside a constructor using the self parameter."
   ]
  },
  {
   "cell_type": "code",
   "execution_count": null,
   "id": "b85cca5a",
   "metadata": {},
   "outputs": [],
   "source": [
    "Q5. What does the term 'self' in a Python class mean?\n",
    "Ans. 'self' works as a pointer which points towards the current object."
   ]
  },
  {
   "cell_type": "code",
   "execution_count": null,
   "id": "9ace07f4",
   "metadata": {},
   "outputs": [],
   "source": [
    "Q6. How does a Python class handle operator overloading?\n",
    "Ans. The operator overloading in Python means provide extended meaning beyond their predefined operational meaning. \n",
    "    Such as, we use the \"+\" operator for adding two integers as well as joining two strings or merging two lists."
   ]
  },
  {
   "cell_type": "code",
   "execution_count": null,
   "id": "42b3a013",
   "metadata": {},
   "outputs": [],
   "source": [
    "Q7. When do you consider allowing operator overloading of your classes?\n",
    "Ans. When the input operation requires a special meaning of an operator for a user-defined data type. "
   ]
  },
  {
   "cell_type": "code",
   "execution_count": null,
   "id": "6754007d",
   "metadata": {},
   "outputs": [],
   "source": [
    "Q8. What is the most popular form of operator overloading?\n",
    "Ans. __str__ is the most popular form of overloading."
   ]
  },
  {
   "cell_type": "code",
   "execution_count": null,
   "id": "f464ae5e",
   "metadata": {},
   "outputs": [],
   "source": [
    "Q9. What are the two most important concepts to grasp in order to comprehend Python OOP code?\n",
    "Ans. Classes and objects."
   ]
  }
 ],
 "metadata": {
  "kernelspec": {
   "display_name": "Python 3 (ipykernel)",
   "language": "python",
   "name": "python3"
  },
  "language_info": {
   "codemirror_mode": {
    "name": "ipython",
    "version": 3
   },
   "file_extension": ".py",
   "mimetype": "text/x-python",
   "name": "python",
   "nbconvert_exporter": "python",
   "pygments_lexer": "ipython3",
   "version": "3.10.1"
  }
 },
 "nbformat": 4,
 "nbformat_minor": 5
}
