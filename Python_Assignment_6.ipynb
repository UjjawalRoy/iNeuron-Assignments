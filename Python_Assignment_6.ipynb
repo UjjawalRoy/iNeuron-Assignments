{
 "cells": [
  {
   "cell_type": "code",
   "execution_count": null,
   "id": "6b3dc422",
   "metadata": {},
   "outputs": [],
   "source": [
    "1. What are escape characters, and how do you use them?\n",
    "Ans. Escape characters represent characters in string values that would otherwise\n",
    "    be difficult or impossible to type into code.\n",
    "2. What do the escape characters n and t stand for?\n",
    "Ans. \\n is a newline; \\t is a tab.\n",
    "3. What is the way to include backslash characters in a string?\n",
    "Ans. \\\\ will represent a backslash character.\n",
    "4. The string \"Howl's Moving Castle\" is a correct value. Why isn't the single quote character in the\n",
    "word Howl's not escaped a problem?\n",
    "Ans. Because, double quotes have been used to enclose the string.\n",
    "5. How do you write a string of newlines if you don't want to use the n character?\n",
    "Ans. Multiline strings allow you to use newlines in strings without the \\n escape character.\n",
    "6. What are the values of the given expressions?\n",
    "Ans. 'e'\n",
    "\n",
    "    'Hello'\n",
    "\n",
    "    'Hello'\n",
    "\n",
    "    'lo world!\n",
    "7. What are the values of the following expressions?\n",
    "Ans. 'HELLO'\n",
    "\n",
    "    True\n",
    "\n",
    "    'hello'\n",
    "8. What are the values of the following expressions?\n",
    "Ans. ['Remember,', 'remember,', 'the', 'fifth', 'of', 'November.']\n",
    "\n",
    "    'There-can-be-only-one.'\n",
    "9. What are the methods for right-justifying, left-justifying, and centering a string?\n",
    "Ans. rjust(), ljust, center().\n",
    "10. What is the best way to remove whitespace characters from the start or end?\n",
    "Ans. The lstrip() and rstrip() methods remove whitespace from the left and right\n",
    "    ends of a string, respectively."
   ]
  }
 ],
 "metadata": {
  "kernelspec": {
   "display_name": "Python 3 (ipykernel)",
   "language": "python",
   "name": "python3"
  },
  "language_info": {
   "codemirror_mode": {
    "name": "ipython",
    "version": 3
   },
   "file_extension": ".py",
   "mimetype": "text/x-python",
   "name": "python",
   "nbconvert_exporter": "python",
   "pygments_lexer": "ipython3",
   "version": "3.10.1"
  }
 },
 "nbformat": 4,
 "nbformat_minor": 5
}
