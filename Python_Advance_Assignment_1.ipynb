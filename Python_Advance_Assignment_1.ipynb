{
 "cells": [
  {
   "cell_type": "code",
   "execution_count": null,
   "id": "481e9116",
   "metadata": {},
   "outputs": [],
   "source": [
    "Q1. What is the purpose of Python's OOP?\n",
    "Ans. Object Oriented Programming is a concept which is implemented to make\n",
    "     a program more modular and to increase the reusability of the codes."
   ]
  },
  {
   "cell_type": "code",
   "execution_count": null,
   "id": "f9cb5865",
   "metadata": {},
   "outputs": [],
   "source": [
    "Q2. Where does an inheritance search look for an attribute?\n",
    "Ans. An inheritence search looks for an attribute in the parent classes."
   ]
  },
  {
   "cell_type": "code",
   "execution_count": null,
   "id": "9a854322",
   "metadata": {},
   "outputs": [],
   "source": [
    "Q3. How do you distinguish between a class object and an instance object?\n",
    "Ans. In simple words, Instance refers to the copy of the object at a particular time\n",
    "    whereas object refers to the memory address of the class."
   ]
  },
  {
   "cell_type": "code",
   "execution_count": null,
   "id": "2eec96fd",
   "metadata": {},
   "outputs": [],
   "source": [
    "Q4. What makes the first argument in a class’s method function special?\n",
    "Ans. The first argument is self and it helps to access the attributes and methods of the class. \n",
    "    It is useful in method definitions and in variable initialization."
   ]
  },
  {
   "cell_type": "code",
   "execution_count": null,
   "id": "ee03580c",
   "metadata": {},
   "outputs": [],
   "source": [
    "Q5. What is the purpose of the __init__ method?\n",
    "Ans. __init__ is an inbuilt constructor function which helps to initialize the \n",
    "    arguments for the defined class."
   ]
  },
  {
   "cell_type": "code",
   "execution_count": null,
   "id": "15f21e4c",
   "metadata": {},
   "outputs": [],
   "source": [
    "Q6. What is the process for creating a class instance?\n",
    "Ans. class class_name:\n",
    "        def __init__(self, a, ....):"
   ]
  },
  {
   "cell_type": "code",
   "execution_count": null,
   "id": "5f5bb6d5",
   "metadata": {},
   "outputs": [],
   "source": [
    "Q7. What is the process for creating a class?\n",
    "Ans. To create a class, use the keyword 'class:'"
   ]
  },
  {
   "cell_type": "code",
   "execution_count": null,
   "id": "18c52c52",
   "metadata": {},
   "outputs": [],
   "source": [
    "Q8. How would you define the superclasses of a class?\n",
    "Ans. The class from which a class inherits is called the parent or superclass."
   ]
  }
 ],
 "metadata": {
  "kernelspec": {
   "display_name": "Python 3 (ipykernel)",
   "language": "python",
   "name": "python3"
  },
  "language_info": {
   "codemirror_mode": {
    "name": "ipython",
    "version": 3
   },
   "file_extension": ".py",
   "mimetype": "text/x-python",
   "name": "python",
   "nbconvert_exporter": "python",
   "pygments_lexer": "ipython3",
   "version": "3.10.1"
  }
 },
 "nbformat": 4,
 "nbformat_minor": 5
}
