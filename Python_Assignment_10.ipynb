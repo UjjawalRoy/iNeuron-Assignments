{
 "cells": [
  {
   "cell_type": "code",
   "execution_count": null,
   "id": "b15d79ba",
   "metadata": {},
   "outputs": [],
   "source": [
    "1. How do you distinguish between shutil.copy() and shutil.copytree()?\n",
    "Ans. The shutil.copy() function will copy a single file, while shutil.copytree()\n",
    "    will copy an entire folder, along with all its contents.\n",
    "2. What function is used to rename files?\n",
    "Ans. The shutil.move() function is used for renaming files as well as\n",
    "    moving them.\n",
    "3. What is the difference between the delete functions in the send2trash and shutil modules?\n",
    "Ans. The send2trash functions will move a file or folder to the recycle bin,\n",
    "    while shutil functions will permanently delete files and folders. \n",
    "4.ZipFile objects have a close() method just like File objects’ close() method. What ZipFile method is\n",
    "    equivalent to File objects’ open() method?\n",
    "Ans. The zipfile.ZipFile() function is equivalent to the open() function; the\n",
    "    first argument is the filename, and the second argument is the mode to\n",
    "    open the ZIP file in (read, write, or append).\n",
    "5. Create a programme that searches a folder tree for files with a certain file extension (such as .pdf\n",
    "    or .jpg). Copy these files from whatever location they are in to a new folder.\n",
    "Ans. \n",
    "    import os, shutil\n",
    "\n",
    "def selectiveCopy(folder, extensions, destFolder):\n",
    "    \"\"\"This programme searches a folder tree for files with a certain file extension (such as .pdf\n",
    "    or .jpg). Copy these files from whatever location they are in to a new folder.\"\"\"\n",
    "    folder = os.path.abspath(folder)\n",
    "    destFolder = os.path.abspath(destFolder)\n",
    "    print('Looking in', folder, 'for files with extensions of', ', '.join(extensions))\n",
    "    for foldername, subfolders, filenames in os.walk(folder):\n",
    "        for filename in filenames:\n",
    "            name, extension = os.path.splitext(filename)\n",
    "            if extension in extensions:\n",
    "                fileAbsPath = foldername + os.path.sep + filename\n",
    "                print('Copying', fileAbsPath, 'to', destFolder)\n",
    "                shutil.copy(fileAbsPath, destFolder)\n",
    "\n",
    "extensions = ['.php', '.py']\n",
    "folder = 'randomFolder'\n",
    "destFolder = 'selectiveFolder'\n",
    "selectiveCopy(folder, extensions, destFolder)"
   ]
  }
 ],
 "metadata": {
  "kernelspec": {
   "display_name": "Python 3 (ipykernel)",
   "language": "python",
   "name": "python3"
  },
  "language_info": {
   "codemirror_mode": {
    "name": "ipython",
    "version": 3
   },
   "file_extension": ".py",
   "mimetype": "text/x-python",
   "name": "python",
   "nbconvert_exporter": "python",
   "pygments_lexer": "ipython3",
   "version": "3.10.1"
  }
 },
 "nbformat": 4,
 "nbformat_minor": 5
}
