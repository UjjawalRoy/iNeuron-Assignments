{
 "cells": [
  {
   "cell_type": "code",
   "execution_count": null,
   "id": "5674ad1d",
   "metadata": {},
   "outputs": [],
   "source": [
    "1. Write a Python Program to Find the Factorial of a Number?"
   ]
  },
  {
   "cell_type": "code",
   "execution_count": 34,
   "id": "0de1e4ec",
   "metadata": {},
   "outputs": [
    {
     "name": "stdout",
     "output_type": "stream",
     "text": [
      "4\n",
      "The factorial of 4 is 24\n"
     ]
    }
   ],
   "source": [
    "x = int(input())\n",
    "factorial = 1\n",
    "if x < 0:\n",
    "       print(\"Sorry, factorial does not exist for negative numbers\")\n",
    "elif x == 0:\n",
    "       print(\"The factorial of 0 is 1\")\n",
    "else:\n",
    "    for i in range(1,x + 1):\n",
    "        factorial = factorial*i\n",
    "    print(\"The factorial of\",x,\"is\",factorial)"
   ]
  },
  {
   "cell_type": "code",
   "execution_count": null,
   "id": "84c6140f",
   "metadata": {},
   "outputs": [],
   "source": [
    "2. Write a Python Program to Display the multiplication Table?"
   ]
  },
  {
   "cell_type": "code",
   "execution_count": 42,
   "id": "25863ddb",
   "metadata": {},
   "outputs": [
    {
     "name": "stdout",
     "output_type": "stream",
     "text": [
      "3\n",
      "6\n",
      "9\n",
      "12\n",
      "15\n",
      "18\n",
      "21\n",
      "24\n",
      "27\n",
      "30\n"
     ]
    }
   ],
   "source": [
    "x = int(input())\n",
    "for i in range(2, 11):\n",
    "    print(i*x)"
   ]
  },
  {
   "cell_type": "code",
   "execution_count": null,
   "id": "0579e6f1",
   "metadata": {},
   "outputs": [],
   "source": [
    "3. Write a Python Program to Print the Fibonacci sequence?"
   ]
  },
  {
   "cell_type": "code",
   "execution_count": 2,
   "id": "e8978250",
   "metadata": {},
   "outputs": [
    {
     "name": "stdout",
     "output_type": "stream",
     "text": [
      "Enter the value of 'n': 5\n",
      "Fibonacci Series:  0 1 1 2 3 "
     ]
    }
   ],
   "source": [
    "n = int(input(\"Enter the value of 'n': \"))\n",
    "a = 0\n",
    "b = 1\n",
    "sum = 0\n",
    "count = 1\n",
    "print(\"Fibonacci Series: \", end = \" \")\n",
    "while(count <= n):\n",
    "    print(sum, end = \" \")\n",
    "    count = count+1\n",
    "    a = b\n",
    "    b = sum\n",
    "    sum = a + b"
   ]
  },
  {
   "cell_type": "code",
   "execution_count": null,
   "id": "2898f9c9",
   "metadata": {},
   "outputs": [],
   "source": [
    "4. Write a Python Program to Check Armstrong Number?"
   ]
  },
  {
   "cell_type": "code",
   "execution_count": 40,
   "id": "9afdba36",
   "metadata": {},
   "outputs": [],
   "source": [
    "def armstrg(input_num):\n",
    "    \"\"\"This functions tells whether a number is an Armstrong number or not\"\"\"\n",
    "    try:\n",
    "        num = input_num\n",
    "        digit_list = []\n",
    "        while num > 0:\n",
    "            digit_list.append(num % 10)\n",
    "            num = num//10\n",
    "        sum = 0\n",
    "        for i in digit_list:\n",
    "            a = i**len(digit_list)\n",
    "            sum = sum + a\n",
    "        if sum == input_num:\n",
    "            print(input_num, \" is an Armstrong number\")\n",
    "        else:\n",
    "            print(input_num, \" is not an Armstrong number\")\n",
    "    except Exception as e:\n",
    "        print(\"Error: \", e)        "
   ]
  },
  {
   "cell_type": "code",
   "execution_count": 59,
   "id": "eb9d2715",
   "metadata": {},
   "outputs": [
    {
     "name": "stdout",
     "output_type": "stream",
     "text": [
      "371  is an Armstrong number\n"
     ]
    }
   ],
   "source": [
    "armstrg(371)"
   ]
  },
  {
   "cell_type": "code",
   "execution_count": null,
   "id": "036fca8e",
   "metadata": {},
   "outputs": [],
   "source": [
    "5. Write a Python Program to Find Armstrong Number in an Interval?"
   ]
  },
  {
   "cell_type": "code",
   "execution_count": 53,
   "id": "4f0ea8ad",
   "metadata": {},
   "outputs": [],
   "source": [
    "def armstrgint(upper, lower):\n",
    "    \"\"\"This functions tells whether a number is an Armstrong number or not\"\"\"\n",
    "    try:\n",
    "        for i in range(lower, upper+1):\n",
    "            num = i\n",
    "            digit_list = []\n",
    "            while num > 0:\n",
    "                digit_list.append(num % 10)\n",
    "                num = num//10\n",
    "            sum = 0\n",
    "            for j in digit_list:\n",
    "                a = j**len(digit_list)\n",
    "                sum = sum + a\n",
    "            if sum == i:\n",
    "                print(i, \" is an Armstrong number\")\n",
    "    except Exception as e:\n",
    "        print(\"Error: \", e) "
   ]
  },
  {
   "cell_type": "code",
   "execution_count": 62,
   "id": "3cd2e795",
   "metadata": {},
   "outputs": [
    {
     "name": "stdout",
     "output_type": "stream",
     "text": [
      "153  is an Armstrong number\n",
      "370  is an Armstrong number\n",
      "371  is an Armstrong number\n",
      "407  is an Armstrong number\n",
      "1634  is an Armstrong number\n",
      "8208  is an Armstrong number\n",
      "9474  is an Armstrong number\n"
     ]
    }
   ],
   "source": [
    "armstrgint(10000, 100)"
   ]
  },
  {
   "cell_type": "code",
   "execution_count": null,
   "id": "c88fd6bd",
   "metadata": {},
   "outputs": [],
   "source": [
    "6. Write a Python Program to Find the Sum of Natural Numbers?"
   ]
  },
  {
   "cell_type": "code",
   "execution_count": 63,
   "id": "f526ef26",
   "metadata": {},
   "outputs": [],
   "source": [
    "def sumnatnum(n):\n",
    "    \"\"\"This functions gives the sum of first 'n' natural numbers.\"\"\"\n",
    "    try:\n",
    "        Sum = (n*(n+1))/2\n",
    "        return Sum\n",
    "    except Exception as e:\n",
    "         print(\"Error: \", e)"
   ]
  },
  {
   "cell_type": "code",
   "execution_count": 65,
   "id": "6778a2cb",
   "metadata": {},
   "outputs": [
    {
     "data": {
      "text/plain": [
       "500500.0"
      ]
     },
     "execution_count": 65,
     "metadata": {},
     "output_type": "execute_result"
    }
   ],
   "source": [
    "sumnatnum(1000)"
   ]
  }
 ],
 "metadata": {
  "kernelspec": {
   "display_name": "Python 3 (ipykernel)",
   "language": "python",
   "name": "python3"
  },
  "language_info": {
   "codemirror_mode": {
    "name": "ipython",
    "version": 3
   },
   "file_extension": ".py",
   "mimetype": "text/x-python",
   "name": "python",
   "nbconvert_exporter": "python",
   "pygments_lexer": "ipython3",
   "version": "3.10.1"
  }
 },
 "nbformat": 4,
 "nbformat_minor": 5
}
