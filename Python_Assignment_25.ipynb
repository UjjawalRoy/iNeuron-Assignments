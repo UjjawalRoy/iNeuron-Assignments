{
 "cells": [
  {
   "cell_type": "code",
   "execution_count": null,
   "id": "80628d98",
   "metadata": {},
   "outputs": [],
   "source": [
    "1) What is the difference between enclosing a list comprehension in square brackets and\n",
    "parentheses?\n",
    "Ans. Enclosing a list comprehension in a square bracket gives a simple list comprehension whereas \n",
    "    enclosing it in parentheses gives a generator."
   ]
  },
  {
   "cell_type": "code",
   "execution_count": null,
   "id": "64bd1cd5",
   "metadata": {},
   "outputs": [],
   "source": [
    "2) What is the relationship between generators and iterators?\n",
    "Ans. Iterators are used to iterate through a loop whereas a generator helps to \n",
    "    generate an iterator. Every generator is an iterator, but not vice versa."
   ]
  },
  {
   "cell_type": "code",
   "execution_count": null,
   "id": "8bf1e7f6",
   "metadata": {},
   "outputs": [],
   "source": [
    "3) What are the signs that a function is a generator function?\n",
    "Ans. If the function contains \"yield\" keyword, then it is a generator function."
   ]
  },
  {
   "cell_type": "code",
   "execution_count": null,
   "id": "96ceae39",
   "metadata": {},
   "outputs": [],
   "source": [
    "4) What is the purpose of a yield statement?\n",
    "Ans. yield in Python can be used like the return statement in a function.\n",
    "    When done so, the function instead of returning the output, it returns \n",
    "    a generator that can be iterated upon."
   ]
  },
  {
   "cell_type": "code",
   "execution_count": null,
   "id": "34376050",
   "metadata": {},
   "outputs": [],
   "source": [
    "5) What is the relationship between map calls and list comprehensions? Make a comparison and\n",
    "contrast between the two.\n",
    "Ans. List comprehension is more concise and easier to read as compared to map. List comprehension \n",
    "    are used when a list of results is required as map only returns a map object and does not return\n",
    "    any list. Map is faster in case of calling an already defined function"
   ]
  }
 ],
 "metadata": {
  "kernelspec": {
   "display_name": "Python 3 (ipykernel)",
   "language": "python",
   "name": "python3"
  },
  "language_info": {
   "codemirror_mode": {
    "name": "ipython",
    "version": 3
   },
   "file_extension": ".py",
   "mimetype": "text/x-python",
   "name": "python",
   "nbconvert_exporter": "python",
   "pygments_lexer": "ipython3",
   "version": "3.10.1"
  }
 },
 "nbformat": 4,
 "nbformat_minor": 5
}
