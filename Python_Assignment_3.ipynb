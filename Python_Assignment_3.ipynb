{
 "cells": [
  {
   "cell_type": "code",
   "execution_count": null,
   "id": "191a0971",
   "metadata": {},
   "outputs": [],
   "source": [
    "1. Why are functions advantageous to have in your programs?\n",
    "Ans. Functions are advantageous to have in functions as they help to \n",
    "    automate a piece of code which is being used multiple times in a program.\n",
    "2. When does the code in a function run: when it is called?\n",
    "Ans. When it is called.\n",
    "3. What statement creates a function?\n",
    "Ans. def statement helps to create a function.\n",
    "4. What is the difference between a function and a function call?\n",
    "Ans. Function is a set of code that can be run multiple times using one keyword\n",
    "    A function call is a callable object which can take some arguments and return\n",
    "    an object.\n",
    "5. How many global scopes are there in a Python program? How many local scopes?\n",
    "Ans. There is only one global scope per program execution. There can be multiple\n",
    "    local scopes in a python program.\n",
    "6. What happens to variables in a local scope when the function call returns?\n",
    "Ans. A local variable retains its value until the next time the function is called \n",
    "    A local variable becomes undefined after the function call completes The local \n",
    "    variable can be used outside the function any time after the function call completes.\n",
    "7. What is the concept of a return value? Is it possible to have a return value in an expression?\n",
    "Ans. A return statement is used to end the execution of the function call and “returns” the result\n",
    "    (value of the expression following the return keyword) to the caller.\n",
    "8. If a function does not have a return statement, what is the return value of a call to that function?\n",
    "Ans. The return value of the function bears a NoneType value.\n",
    "9. How do you make a function variable refer to the global variable?\n",
    "As. If you want to refer to a global variable in a fucntion, then you have to declare which variables are global\n",
    "     using the 'global' keyword.\n",
    "10. What is the data type of None?\n",
    "Ans. None is of the data type NoneType.\n",
    "11. What does the sentence import areallyourpetsnamederic do?\n",
    "Ans. The import statementimports a module named areallyourpetsnamederic.\n",
    "12. If you had a bacon() feature in a spam module, what would you call it after importing spam?\n",
    "Ans. Function can be called using spam.bacon().\n",
    "13. What can you do to save a programme from crashing if it encounters an error?\n",
    "Ans. Place the statement which may cause a crash error into a try clause.\n",
    "14. What is the purpose of the try clause? What is the purpose of the except clause?\n",
    "Ans. A code that could potenntially cause an error goes innto the try clause.\n",
    "    A code that executes if ann error happens goes into the except clause."
   ]
  }
 ],
 "metadata": {
  "kernelspec": {
   "display_name": "Python 3 (ipykernel)",
   "language": "python",
   "name": "python3"
  },
  "language_info": {
   "codemirror_mode": {
    "name": "ipython",
    "version": 3
   },
   "file_extension": ".py",
   "mimetype": "text/x-python",
   "name": "python",
   "nbconvert_exporter": "python",
   "pygments_lexer": "ipython3",
   "version": "3.10.1"
  }
 },
 "nbformat": 4,
 "nbformat_minor": 5
}
